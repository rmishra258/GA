{
 "cells": [
  {
   "cell_type": "code",
   "execution_count": 62,
   "metadata": {},
   "outputs": [],
   "source": [
    "import tweepy\n",
    "import pandas as pd\n",
    "from nltk.sentiment.vader import SentimentIntensityAnalyzer\n",
    "from nltk.corpus import stopwords\n",
    "from nltk.tokenize import word_tokenize, RegexpTokenizer, sent_tokenize"
   ]
  },
  {
   "cell_type": "code",
   "execution_count": 85,
   "metadata": {},
   "outputs": [
    {
     "name": "stdout",
     "output_type": "stream",
     "text": [
      "[nltk_data] Downloading package stopwords to\n",
      "[nltk_data]     C:\\Users\\rahul4.mishra\\AppData\\Roaming\\nltk_data...\n",
      "[nltk_data]   Package stopwords is already up-to-date!\n",
      "[nltk_data] Downloading package punkt to\n",
      "[nltk_data]     C:\\Users\\rahul4.mishra\\AppData\\Roaming\\nltk_data...\n",
      "[nltk_data]   Package punkt is already up-to-date!\n",
      "[nltk_data] Downloading package vader_lexicon to\n",
      "[nltk_data]     C:\\Users\\rahul4.mishra\\AppData\\Roaming\\nltk_data...\n"
     ]
    },
    {
     "data": {
      "text/plain": [
       "True"
      ]
     },
     "execution_count": 85,
     "metadata": {},
     "output_type": "execute_result"
    }
   ],
   "source": [
    "nltk.download('stopwords')\n",
    "nltk.download('punkt')\n",
    "nltk.download('vader_lexicon')"
   ]
  },
  {
   "cell_type": "code",
   "execution_count": 64,
   "metadata": {},
   "outputs": [],
   "source": [
    "consumer_key = 'c57SU7sulViKSmjsOTi4kTO3W'\n",
    "consumer_secret = 'cNT3yk5ibQ315AWNCJHgE9ipCGlM1XnenHZu9cBWaVL3q7fPew'\n",
    "access_token = '796747210159517701-DhOBQgwzeb6q4eXlI4WjwPRJH1CuEIT'\n",
    "access_token_secret = 'sMrnPZ4ExI8um43wquUvFEUCTyY61HYRf7z3jv00ltXlt'"
   ]
  },
  {
   "cell_type": "code",
   "execution_count": 65,
   "metadata": {},
   "outputs": [],
   "source": [
    "#authentication\n",
    "auth = tweepy.OAuthHandler(consumer_key, consumer_secret)\n",
    "auth.set_access_token(access_token,access_token_secret)\n",
    "\n",
    "api = tweepy.API(auth)"
   ]
  },
  {
   "cell_type": "code",
   "execution_count": 81,
   "metadata": {},
   "outputs": [
    {
     "name": "stdout",
     "output_type": "stream",
     "text": [
      "['mukesh ambani: save panje - the last remaining wetland in mumbai - sign the petition!', 'https://t.co/ebbbhaakco via @changeorg_india']\n"
     ]
    }
   ],
   "source": [
    "#search terms\n",
    "term = 'mukesh ambani'\n",
    "tweets = api.search(term, count=200)\n",
    "\n",
    "#lowercase\n",
    "tweet_data = [sent_tokenize(x.text.lower()) for x in tweets]\n",
    "\n",
    "#remove stopwords\n",
    "sw = stopwords.words('english')\n",
    "\n",
    "print(tweet_data[0])\n"
   ]
  },
  {
   "cell_type": "code",
   "execution_count": 82,
   "metadata": {},
   "outputs": [],
   "source": [
    "def remove_sw(lst, corpus):\n",
    "    \n",
    "    data = []\n",
    "    data_punc = []\n",
    "    \n",
    "    for x in lst:\n",
    "        \n",
    "        data.append([y for y in x if x not in corpus])\n",
    "        \n",
    "    data = [\" \".join(x) for x in data]\n",
    "        \n",
    "    regtkn = RegexpTokenizer(r'\\w+')\n",
    "    \n",
    "    data = [\" \".join(regtkn.tokenize(x)) for x in data]\n",
    "    \n",
    "    return data\n",
    "\n",
    "tweet_data_2 = remove_sw(tweet_data, sw)"
   ]
  },
  {
   "cell_type": "code",
   "execution_count": 94,
   "metadata": {},
   "outputs": [],
   "source": [
    "sid = SentimentIntensityAnalyzer()\n",
    "\n",
    "def sentiment_analyser(lst):\n",
    "    \n",
    "    sentiment = [sid.polarity_scores(x) for x in lst]\n",
    "    neg = [sid.polarity_scores(x)['neg'] for x in lst]\n",
    "    neu = [sid.polarity_scores(x)['neu'] for x in lst]\n",
    "    pos = [sid.polarity_scores(x)['pos'] for x in lst]\n",
    "    comp = [sid.polarity_scores(x)['compound'] for x in lst]\n",
    "    \n",
    "    return sentiment, neg, neu, pos, comp\n",
    "\n",
    "sentiment, neg, neu, pos, comp = sentiment_analyser(tweet_data_2)\n"
   ]
  },
  {
   "cell_type": "code",
   "execution_count": 97,
   "metadata": {},
   "outputs": [],
   "source": [
    "df = pd.DataFrame(data=tweet_data_2, columns=['tweet'])"
   ]
  },
  {
   "cell_type": "code",
   "execution_count": 99,
   "metadata": {},
   "outputs": [],
   "source": [
    "df['pos'] = pos\n",
    "df['neg'] = neg\n",
    "df['neu'] = neu\n",
    "df['comp'] = comp"
   ]
  },
  {
   "cell_type": "code",
   "execution_count": 100,
   "metadata": {},
   "outputs": [
    {
     "data": {
      "text/plain": [
       "tweet    bhuvam bam funny dubbing on jio mukesh ambani ...\n",
       "pos                                                  0.153\n",
       "neg                                                      0\n",
       "neu                                                  0.847\n",
       "comp                                                0.4404\n",
       "Name: 2, dtype: object"
      ]
     },
     "execution_count": 100,
     "metadata": {},
     "output_type": "execute_result"
    }
   ],
   "source": [
    "tweets"
   ]
  },
  {
   "cell_type": "code",
   "execution_count": null,
   "metadata": {},
   "outputs": [],
   "source": []
  }
 ],
 "metadata": {
  "kernelspec": {
   "display_name": "Python 3",
   "language": "python",
   "name": "python3"
  },
  "language_info": {
   "codemirror_mode": {
    "name": "ipython",
    "version": 3
   },
   "file_extension": ".py",
   "mimetype": "text/x-python",
   "name": "python",
   "nbconvert_exporter": "python",
   "pygments_lexer": "ipython3",
   "version": "3.6.5"
  }
 },
 "nbformat": 4,
 "nbformat_minor": 2
}
